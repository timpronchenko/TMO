{
  "cells": [
    {
      "cell_type": "markdown",
      "id": "a2f6b7d5",
      "metadata": {
        "id": "a2f6b7d5"
      },
      "source": [
        "# Технологии машинного обучения\n",
        "### РК1 - Тимофей Пронченко ИУ5-62Б\n",
        "### Вариант 16 - Задача №2, Набор данных №8\n",
        "\n",
        "**Задание:**\n",
        "\n",
        "Для заданного набора данных проведите обработку пропусков в данных для одного категориального и одного количественного признака. Какие способы обработки пропусков в данных для категориальных и количественных признаков Вы использовали? Какие признаки Вы будете использовать для дальнейшего построения моделей машинного обучения и почему?  "
      ]
    },
    {
      "cell_type": "markdown",
      "id": "54972f61",
      "metadata": {
        "id": "54972f61"
      },
      "source": [
        "#### Импортируем библиотеки"
      ]
    },
    {
      "cell_type": "code",
      "execution_count": null,
      "id": "685929f9",
      "metadata": {
        "id": "685929f9"
      },
      "outputs": [],
      "source": [
        "import pandas as pd\n",
        "import seaborn as sns\n",
        "import matplotlib.pyplot as plt"
      ]
    },
    {
      "cell_type": "markdown",
      "id": "3aca8128",
      "metadata": {
        "id": "3aca8128"
      },
      "source": [
        "#### Импортируем данные\n",
        "\n",
        "- **CRIM** – уровень преступности на душу населения по городам.  \n",
        "- **ZN** – доля жилых зон, отведённых под участки площадью более 25 000 кв. футов.  \n",
        "- **INDUS** – доля земель коммерческого назначения (не розничная торговля) в городе.  \n",
        "- **CHAS** – фиктивная переменная реки Чарльз (=1, если участок прилегает к реке; 0 в противном случае).  \n",
        "- **NOX** – концентрация оксидов азота (частей на 10 миллионов).  \n",
        "- **RM** – среднее количество комнат в жилом помещении.  \n",
        "- **AGE** – доля домов, построенных до 1940 года и занятых владельцами.  \n",
        "- **DIS** – средневзвешенное расстояние до пяти рабочих центров Бостона.  \n",
        "- **RAD** – индекс доступности радиальных магистралей.  \n",
        "- **TAX** – ставка налога на недвижимость (полная стоимость на $10 000).  \n",
        "- **PTRATIO** – соотношение учеников к учителям по городам.  \n",
        "- **B** – расчётный показатель: `1000(Bk - 0.63)^2`, где **Bk** – доля чернокожего населения в городе.  \n",
        "- **LSTAT** – процент населения с низким социально-экономическим статусом.  \n",
        "- **MEDV** – медианная стоимость домов, занимаемых владельцами (в тысячах долларов).  \n"
      ]
    },
    {
      "cell_type": "code",
      "execution_count": null,
      "id": "fb17d317",
      "metadata": {
        "id": "fb17d317"
      },
      "outputs": [],
      "source": [
        "df = pd.read_csv('HousingData.csv')"
      ]
    },
    {
      "cell_type": "markdown",
      "id": "60de2a7e",
      "metadata": {
        "id": "60de2a7e"
      },
      "source": [
        "### Основные характеристики датасета"
      ]
    },
    {
      "cell_type": "code",
      "execution_count": null,
      "id": "78b0c828",
      "metadata": {
        "id": "78b0c828",
        "outputId": "ebd4d588-04c7-4f70-b840-b5f5a055cd15"
      },
      "outputs": [
        {
          "data": {
            "text/html": [
              "<div>\n",
              "<style scoped>\n",
              "    .dataframe tbody tr th:only-of-type {\n",
              "        vertical-align: middle;\n",
              "    }\n",
              "\n",
              "    .dataframe tbody tr th {\n",
              "        vertical-align: top;\n",
              "    }\n",
              "\n",
              "    .dataframe thead th {\n",
              "        text-align: right;\n",
              "    }\n",
              "</style>\n",
              "<table border=\"1\" class=\"dataframe\">\n",
              "  <thead>\n",
              "    <tr style=\"text-align: right;\">\n",
              "      <th></th>\n",
              "      <th>CRIM</th>\n",
              "      <th>ZN</th>\n",
              "      <th>INDUS</th>\n",
              "      <th>CHAS</th>\n",
              "      <th>NOX</th>\n",
              "      <th>RM</th>\n",
              "      <th>AGE</th>\n",
              "      <th>DIS</th>\n",
              "      <th>RAD</th>\n",
              "      <th>TAX</th>\n",
              "      <th>PTRATIO</th>\n",
              "      <th>B</th>\n",
              "      <th>LSTAT</th>\n",
              "      <th>MEDV</th>\n",
              "    </tr>\n",
              "  </thead>\n",
              "  <tbody>\n",
              "    <tr>\n",
              "      <th>0</th>\n",
              "      <td>0.00632</td>\n",
              "      <td>18.0</td>\n",
              "      <td>2.31</td>\n",
              "      <td>0.0</td>\n",
              "      <td>0.538</td>\n",
              "      <td>6.575</td>\n",
              "      <td>65.2</td>\n",
              "      <td>4.0900</td>\n",
              "      <td>1</td>\n",
              "      <td>296</td>\n",
              "      <td>15.3</td>\n",
              "      <td>396.90</td>\n",
              "      <td>4.98</td>\n",
              "      <td>24.0</td>\n",
              "    </tr>\n",
              "    <tr>\n",
              "      <th>1</th>\n",
              "      <td>0.02731</td>\n",
              "      <td>0.0</td>\n",
              "      <td>7.07</td>\n",
              "      <td>0.0</td>\n",
              "      <td>0.469</td>\n",
              "      <td>6.421</td>\n",
              "      <td>78.9</td>\n",
              "      <td>4.9671</td>\n",
              "      <td>2</td>\n",
              "      <td>242</td>\n",
              "      <td>17.8</td>\n",
              "      <td>396.90</td>\n",
              "      <td>9.14</td>\n",
              "      <td>21.6</td>\n",
              "    </tr>\n",
              "    <tr>\n",
              "      <th>2</th>\n",
              "      <td>0.02729</td>\n",
              "      <td>0.0</td>\n",
              "      <td>7.07</td>\n",
              "      <td>0.0</td>\n",
              "      <td>0.469</td>\n",
              "      <td>7.185</td>\n",
              "      <td>61.1</td>\n",
              "      <td>4.9671</td>\n",
              "      <td>2</td>\n",
              "      <td>242</td>\n",
              "      <td>17.8</td>\n",
              "      <td>392.83</td>\n",
              "      <td>4.03</td>\n",
              "      <td>34.7</td>\n",
              "    </tr>\n",
              "    <tr>\n",
              "      <th>3</th>\n",
              "      <td>0.03237</td>\n",
              "      <td>0.0</td>\n",
              "      <td>2.18</td>\n",
              "      <td>0.0</td>\n",
              "      <td>0.458</td>\n",
              "      <td>6.998</td>\n",
              "      <td>45.8</td>\n",
              "      <td>6.0622</td>\n",
              "      <td>3</td>\n",
              "      <td>222</td>\n",
              "      <td>18.7</td>\n",
              "      <td>394.63</td>\n",
              "      <td>2.94</td>\n",
              "      <td>33.4</td>\n",
              "    </tr>\n",
              "    <tr>\n",
              "      <th>4</th>\n",
              "      <td>0.06905</td>\n",
              "      <td>0.0</td>\n",
              "      <td>2.18</td>\n",
              "      <td>0.0</td>\n",
              "      <td>0.458</td>\n",
              "      <td>7.147</td>\n",
              "      <td>54.2</td>\n",
              "      <td>6.0622</td>\n",
              "      <td>3</td>\n",
              "      <td>222</td>\n",
              "      <td>18.7</td>\n",
              "      <td>396.90</td>\n",
              "      <td>NaN</td>\n",
              "      <td>36.2</td>\n",
              "    </tr>\n",
              "  </tbody>\n",
              "</table>\n",
              "</div>"
            ],
            "text/plain": [
              "      CRIM    ZN  INDUS  CHAS    NOX     RM   AGE     DIS  RAD  TAX  PTRATIO  \\\n",
              "0  0.00632  18.0   2.31   0.0  0.538  6.575  65.2  4.0900    1  296     15.3   \n",
              "1  0.02731   0.0   7.07   0.0  0.469  6.421  78.9  4.9671    2  242     17.8   \n",
              "2  0.02729   0.0   7.07   0.0  0.469  7.185  61.1  4.9671    2  242     17.8   \n",
              "3  0.03237   0.0   2.18   0.0  0.458  6.998  45.8  6.0622    3  222     18.7   \n",
              "4  0.06905   0.0   2.18   0.0  0.458  7.147  54.2  6.0622    3  222     18.7   \n",
              "\n",
              "        B  LSTAT  MEDV  \n",
              "0  396.90   4.98  24.0  \n",
              "1  396.90   9.14  21.6  \n",
              "2  392.83   4.03  34.7  \n",
              "3  394.63   2.94  33.4  \n",
              "4  396.90    NaN  36.2  "
            ]
          },
          "execution_count": 13,
          "metadata": {},
          "output_type": "execute_result"
        }
      ],
      "source": [
        "df.head()"
      ]
    },
    {
      "cell_type": "code",
      "execution_count": null,
      "id": "3be7dc3c",
      "metadata": {
        "id": "3be7dc3c",
        "outputId": "ba5bd949-1631-471d-f3cf-bf681abed4dd"
      },
      "outputs": [
        {
          "data": {
            "text/plain": [
              "(506, 14)"
            ]
          },
          "execution_count": 14,
          "metadata": {},
          "output_type": "execute_result"
        }
      ],
      "source": [
        "# Размер датасета - 506 строк, 14 столбцов\n",
        "df.shape"
      ]
    },
    {
      "cell_type": "markdown",
      "id": "a762fe70",
      "metadata": {
        "id": "a762fe70"
      },
      "source": [
        "#### Проверим признаки на пропуски"
      ]
    },
    {
      "cell_type": "code",
      "execution_count": null,
      "id": "83d92848",
      "metadata": {
        "id": "83d92848",
        "outputId": "ea11b7e3-acb0-41bb-d8ee-ab7a748c16ca"
      },
      "outputs": [
        {
          "name": "stdout",
          "output_type": "stream",
          "text": [
            "Пропуски до обработки:\n",
            "CHAS     20\n",
            "LSTAT    20\n",
            "dtype: int64\n"
          ]
        }
      ],
      "source": [
        "print(\"Пропуски до обработки:\")\n",
        "print(df[['CHAS', 'LSTAT']].isnull().sum())"
      ]
    },
    {
      "cell_type": "markdown",
      "id": "24665006",
      "metadata": {
        "id": "24665006"
      },
      "source": [
        "#### Заполним пропуски"
      ]
    },
    {
      "cell_type": "code",
      "execution_count": null,
      "id": "91dc1ed8",
      "metadata": {
        "id": "91dc1ed8",
        "outputId": "cc4d722c-c103-4973-a4e1-9e8b3b524a62"
      },
      "outputs": [
        {
          "name": "stdout",
          "output_type": "stream",
          "text": [
            "Пропуски в CHAS заполнены модой.\n",
            "Пропуски в LSTAT заполнены медианой.\n"
          ]
        }
      ],
      "source": [
        "# Заполнение пропусков в CHAS (категориальный)\n",
        "if df['CHAS'].isnull().sum() > 0:\n",
        "    df.fillna({'CHAS': df['CHAS'].mode()[0]}, inplace=True)\n",
        "    print(\"Пропуски в CHAS заполнены модой.\")\n",
        "else:\n",
        "    print(\"Пропусков в CHAS нет.\")\n",
        "\n",
        "# Заполнение пропусков в LSTAT (количественный)\n",
        "if df['AGE'].isnull().sum() > 0:\n",
        "    df.fillna({'LSTAT': df['LSTAT'].median()}, inplace=True)\n",
        "    print(\"Пропуски в LSTAT заполнены медианой.\")\n",
        "else:\n",
        "    print(\"Пропусков в LSTAT нет.\")"
      ]
    },
    {
      "cell_type": "code",
      "execution_count": null,
      "id": "766ed90b",
      "metadata": {
        "id": "766ed90b",
        "outputId": "9226a595-3dbe-4e04-b3c6-5b29d7d53775"
      },
      "outputs": [
        {
          "name": "stdout",
          "output_type": "stream",
          "text": [
            "\n",
            "Пропуски после обработки:\n",
            "CHAS     0\n",
            "LSTAT    0\n",
            "dtype: int64\n"
          ]
        }
      ],
      "source": [
        "# Проверка после обработки\n",
        "print(\"\\nПропуски после обработки:\")\n",
        "print(df[['CHAS', 'LSTAT']].isnull().sum())"
      ]
    },
    {
      "cell_type": "markdown",
      "id": "967fb147",
      "metadata": {
        "id": "967fb147"
      },
      "source": [
        "#### Для нахождения наиболее важных признаков для построения модели посмотрим корреляцию с целевой переменной"
      ]
    },
    {
      "cell_type": "code",
      "execution_count": null,
      "id": "b64c852d",
      "metadata": {
        "id": "b64c852d",
        "outputId": "47e31fbb-e5f2-41e1-9299-d9ef2ef92f39"
      },
      "outputs": [
        {
          "name": "stdout",
          "output_type": "stream",
          "text": [
            "\n",
            "Корреляция всех признаков с MEDV:\n",
            "RM         0.695360\n",
            "ZN         0.373136\n",
            "B          0.333461\n",
            "DIS        0.249929\n",
            "CHAS       0.183844\n",
            "RAD       -0.381626\n",
            "CRIM      -0.391363\n",
            "AGE       -0.394656\n",
            "NOX       -0.427321\n",
            "TAX       -0.468536\n",
            "INDUS     -0.481772\n",
            "PTRATIO   -0.507787\n",
            "LSTAT     -0.723093\n",
            "Name: MEDV, dtype: float64\n"
          ]
        }
      ],
      "source": [
        "# Строим корреляционную матрицу\n",
        "corr_matrix = df.corr()\n",
        "\n",
        "print(\"\\nКорреляция всех признаков с MEDV:\")\n",
        "print(corr_matrix['MEDV'].sort_values(ascending=False)[1:])\n"
      ]
    }
  ],
  "metadata": {
    "kernelspec": {
      "display_name": "Python 3",
      "language": "python",
      "name": "python3"
    },
    "language_info": {
      "codemirror_mode": {
        "name": "ipython",
        "version": 3
      },
      "file_extension": ".py",
      "mimetype": "text/x-python",
      "name": "python",
      "nbconvert_exporter": "python",
      "pygments_lexer": "ipython3",
      "version": "3.13.0"
    },
    "colab": {
      "provenance": []
    }
  },
  "nbformat": 4,
  "nbformat_minor": 5
}